{
 "cells": [
  {
   "cell_type": "code",
   "execution_count": 1,
   "metadata": {},
   "outputs": [],
   "source": [
    "import json\n",
    "import re\n",
    "import pickle"
   ]
  },
  {
   "cell_type": "markdown",
   "metadata": {},
   "source": [
    "## Gather Data\n",
    "\n",
    "Use nuhil's bangladesh-geocode repository to collect GPE names of Bangladesh. This is fairly accurate."
   ]
  },
  {
   "cell_type": "code",
   "execution_count": 2,
   "metadata": {},
   "outputs": [
    {
     "name": "stdout",
     "output_type": "stream",
     "text": [
      "Cloning into 'bangladesh-geocode'...\n",
      "remote: Enumerating objects: 22, done.\u001b[K\n",
      "remote: Counting objects: 100% (22/22), done.\u001b[K\n",
      "remote: Compressing objects: 100% (21/21), done.\u001b[K\n",
      "remote: Total 182 (delta 8), reused 0 (delta 0), pack-reused 160\u001b[K\n",
      "Receiving objects: 100% (182/182), 670.16 KiB | 598.00 KiB/s, done.\n",
      "Resolving deltas: 100% (79/79), done.\n"
     ]
    }
   ],
   "source": [
    "!git clone https://github.com/nuhil/bangladesh-geocode.git"
   ]
  },
  {
   "cell_type": "code",
   "execution_count": 3,
   "metadata": {},
   "outputs": [],
   "source": [
    "in_prefix = 'bangladesh-geocode'\n",
    "out_prefix = 'interim'\n",
    "\n",
    "!mkdir -p interim"
   ]
  },
  {
   "cell_type": "markdown",
   "metadata": {},
   "source": [
    "## Extract all hierarchies of GPE"
   ]
  },
  {
   "cell_type": "code",
   "execution_count": 4,
   "metadata": {},
   "outputs": [
    {
     "data": {
      "text/plain": [
       "'Districts: 64'"
      ]
     },
     "execution_count": 4,
     "metadata": {},
     "output_type": "execute_result"
    }
   ],
   "source": [
    "with open(in_prefix + '/districts/districts.json') as f:\n",
    "    content = json.load(f)\n",
    "\n",
    "districts = [d['bn_name'] for d in content[2]['data']]\n",
    "\n",
    "'Districts: {}'.format(len(districts))"
   ]
  },
  {
   "cell_type": "code",
   "execution_count": 5,
   "metadata": {},
   "outputs": [
    {
     "data": {
      "text/plain": [
       "'Divisions: 8'"
      ]
     },
     "execution_count": 5,
     "metadata": {},
     "output_type": "execute_result"
    }
   ],
   "source": [
    "with open(in_prefix + '/divisions/divisions.json') as f:\n",
    "    content = json.load(f)\n",
    "\n",
    "divisions = [d['bn_name'] for d in content[2]['data']]\n",
    "\n",
    "'Divisions: {}'.format(len(divisions))"
   ]
  },
  {
   "cell_type": "code",
   "execution_count": 6,
   "metadata": {},
   "outputs": [
    {
     "data": {
      "text/plain": [
       "'Unions: 4540'"
      ]
     },
     "execution_count": 6,
     "metadata": {},
     "output_type": "execute_result"
    }
   ],
   "source": [
    "with open(in_prefix + '/unions/unions.json') as f:\n",
    "    content = json.load(f)\n",
    "\n",
    "unions = [d['bn_name'] for d in content[2]['data']]\n",
    "\n",
    "'Unions: {}'.format(len(unions))"
   ]
  },
  {
   "cell_type": "code",
   "execution_count": 7,
   "metadata": {},
   "outputs": [
    {
     "data": {
      "text/plain": [
       "'Upzillas: 491'"
      ]
     },
     "execution_count": 7,
     "metadata": {},
     "output_type": "execute_result"
    }
   ],
   "source": [
    "with open(in_prefix + '/upazilas/upazilas.json') as f:\n",
    "    content = json.load(f)\n",
    "\n",
    "upazilas = [d['bn_name'] for d in content[2]['data']]\n",
    "\n",
    "'Upzillas: {}'.format(len(upazilas))"
   ]
  },
  {
   "cell_type": "code",
   "execution_count": 8,
   "metadata": {},
   "outputs": [
    {
     "data": {
      "text/plain": [
       "'Total Unique GPE: 4351'"
      ]
     },
     "execution_count": 8,
     "metadata": {},
     "output_type": "execute_result"
    }
   ],
   "source": [
    "import itertools\n",
    "\n",
    "unique_gpe = set(itertools.chain(divisions, districts, unions, upazilas))\n",
    "\n",
    "'Total Unique GPE: {}'.format(len(unique_gpe))"
   ]
  },
  {
   "cell_type": "markdown",
   "metadata": {},
   "source": [
    "## Transform Special Names\n",
    "\n",
    "Convert নাখালপাড়া (পশ্চিম) to পশ্চিম নাখালপাড়া।"
   ]
  },
  {
   "cell_type": "code",
   "execution_count": 9,
   "metadata": {},
   "outputs": [
    {
     "data": {
      "text/plain": [
       "'Total Unique GPE: 4434'"
      ]
     },
     "execution_count": 9,
     "metadata": {},
     "output_type": "execute_result"
    }
   ],
   "source": [
    "import re\n",
    "r = re.compile('(.*)\\s*\\((.*)\\)')\n",
    "\n",
    "unique_gpe.update([' '.join(r.findall(name)[0][::-1]).strip() for name in unique_gpe if '(' in name])\n",
    "\n",
    "'Total Unique GPE: {}'.format(len(unique_gpe))"
   ]
  },
  {
   "cell_type": "markdown",
   "metadata": {},
   "source": [
    "## Dump into Pickle\n",
    "\n",
    "Dump the names into a pickle for future use in other projects."
   ]
  },
  {
   "cell_type": "code",
   "execution_count": 10,
   "metadata": {},
   "outputs": [],
   "source": [
    "import pickle\n",
    "\n",
    "with open(out_prefix + '/unique_gpe.pickle', 'wb') as f:\n",
    "    pickle.dump(unique_gpe, f)"
   ]
  },
  {
   "cell_type": "markdown",
   "metadata": {},
   "source": [
    "## Convert to spaCy Matchers\n",
    "\n",
    "We will train spaCy NER with this."
   ]
  },
  {
   "cell_type": "code",
   "execution_count": 11,
   "metadata": {},
   "outputs": [],
   "source": [
    "def make_pattern(name):\n",
    "    return [{'TEXT': t} for t in name.split()]\n",
    "\n",
    "def make_patterns(entities):\n",
    "    return [make_pattern(entity) for entity in entities]\n",
    "\n",
    "patterns = make_patterns(unique_gpe)"
   ]
  },
  {
   "cell_type": "code",
   "execution_count": 12,
   "metadata": {},
   "outputs": [],
   "source": [
    "with open(out_prefix + '/patterns.pickle', 'wb') as f:\n",
    "    pickle.dump(patterns, f)"
   ]
  },
  {
   "cell_type": "code",
   "execution_count": null,
   "metadata": {},
   "outputs": [],
   "source": []
  }
 ],
 "metadata": {
  "kernelspec": {
   "display_name": "Python 3",
   "language": "python",
   "name": "python3"
  },
  "language_info": {
   "codemirror_mode": {
    "name": "ipython",
    "version": 3
   },
   "file_extension": ".py",
   "mimetype": "text/x-python",
   "name": "python",
   "nbconvert_exporter": "python",
   "pygments_lexer": "ipython3",
   "version": "3.7.4"
  }
 },
 "nbformat": 4,
 "nbformat_minor": 2
}
